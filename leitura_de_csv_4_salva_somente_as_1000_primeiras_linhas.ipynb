{
 "cells": [
  {
   "attachments": {},
   "cell_type": "markdown",
   "id": "d1f51e03",
   "metadata": {},
   "source": [
    "Importando as bibliotecas que serão utilizads "
   ]
  },
  {
   "cell_type": "code",
   "execution_count": 9,
   "id": "c2bcc850",
   "metadata": {},
   "outputs": [],
   "source": [
    "import pandas as pd\n",
    "import time\n",
    "import os\n",
    "from datetime import datetime\n",
    "import re\n",
    "import csv"
   ]
  },
  {
   "attachments": {},
   "cell_type": "markdown",
   "id": "465d8ee0",
   "metadata": {},
   "source": [
    "Leitura do arquivo de Entrada no ambiente local onde se encontra código Jupyter"
   ]
  },
  {
   "cell_type": "code",
   "execution_count": 10,
   "id": "a0734ead",
   "metadata": {},
   "outputs": [],
   "source": [
    "def ler_csv():\n",
    "    # Inserir o nome do arquivo não padronizado\n",
    "    filename = 'QBA.csv'\n",
    "    \n",
    "    # Leitura do arquivo CSV\n",
    "    df = pd.read_csv(filename, sep=';', nrows=1000, float_precision='round_trip', encoding='UTF-8')\n",
    "    \n",
    "    # Padronização das colunas para letras maiúsculas\n",
    "    df.columns = df.columns.str.upper()\n",
    "    \n",
    "    return df"
   ]
  },
  {
   "attachments": {},
   "cell_type": "markdown",
   "id": "1fc9993b",
   "metadata": {},
   "source": [
    "Geração e exportação do arquivo .csv reduzido para o ambiente local ou outro diretório a definir"
   ]
  },
  {
   "cell_type": "code",
   "execution_count": 15,
   "id": "c82f6a7c",
   "metadata": {},
   "outputs": [],
   "source": [
    "def gera_padronizado():\n",
    "    # Leitura do arquivo CSV\n",
    "    df = ler_csv()\n",
    "    \n",
    "    # Nome do arquivo reduzido\n",
    "    arqname = 'QBA_reduzido_1000_linhas.csv'\n",
    "    \n",
    "    # Exporta o arquivo para o ambiente local\n",
    "    df.to_csv(arqname, sep=';', index=False,\n",
    "              #quoting=csv.QUOTE_ALL, #Insere aspas duplas em tudo, independentemente do tipo de campo\n",
    "              quoting=csv.QUOTE_NONE, #Não insere aspas duplas em nada. No entanto, durante a leitura, as aspas são incluídas em torno dos valores do campo.\n",
    "              #quoting=csv.QUOTE_MINIMAL, #Insere aspas somente quando necessário, por exemplo, quando um campo contém as aspas ou o delimitador. Este é o padrão.\n",
    "              #quoting=csv.QUOTE_NONNUMERIC, #Insere aspas duplas em tudo, exceto números inteiros e flutuantes.\n",
    "              encoding='UTF-8')"
   ]
  },
  {
   "attachments": {},
   "cell_type": "markdown",
   "id": "b29dff0e",
   "metadata": {},
   "source": [
    "Rotina Principal"
   ]
  },
  {
   "cell_type": "code",
   "execution_count": 16,
   "id": "cb8a05aa",
   "metadata": {},
   "outputs": [
    {
     "name": "stdout",
     "output_type": "stream",
     "text": [
      "Duração: 0:00:00.014007\n"
     ]
    }
   ],
   "source": [
    "start_time = datetime.now()\n",
    "\n",
    "gera_padronizado()\n",
    "\n",
    "end_time = datetime.now()\n",
    "\n",
    "print('Duração: {}'.format(end_time - start_time))"
   ]
  }
 ],
 "metadata": {
  "kernelspec": {
   "display_name": "Python 3 (ipykernel)",
   "language": "python",
   "name": "python3"
  },
  "language_info": {
   "codemirror_mode": {
    "name": "ipython",
    "version": 3
   },
   "file_extension": ".py",
   "mimetype": "text/x-python",
   "name": "python",
   "nbconvert_exporter": "python",
   "pygments_lexer": "ipython3",
   "version": "3.11.2"
  }
 },
 "nbformat": 4,
 "nbformat_minor": 5
}
